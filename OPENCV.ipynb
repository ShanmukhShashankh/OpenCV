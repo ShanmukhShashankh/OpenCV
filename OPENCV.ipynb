{
 "cells": [
  {
   "cell_type": "code",
   "execution_count": 1,
   "id": "e1e553b7",
   "metadata": {},
   "outputs": [],
   "source": [
    "import cv2 as cv\n",
    "import numpy as np"
   ]
  },
  {
   "cell_type": "code",
   "execution_count": 2,
   "id": "75e03e44",
   "metadata": {},
   "outputs": [],
   "source": [
    "def changeRes(width,height):\n",
    "    cap.set(3,width)\n",
    "    cap.set(4,height)\n",
    "    \n",
    "def rescaledFrame(frame,scale=0.75):\n",
    "    width = int(frame.shape[1]*scale)\n",
    "    height = int(frame.shape[0]*scale)\n",
    "    dimensions = (width,height)\n",
    "    return cv.resize(frame,dimensions,interpolation=cv.INTER_AREA)\n",
    "\n",
    "def draw_circle(event,x,y,flags,param):\n",
    "    if event == cv.EVENT_LBUTTONDBLCLK:\n",
    "        cv.circle(img,(x,y),100,(255,0,0),-1)\n",
    "\n",
    "def doNothing(x):\n",
    "    pass\n",
    "\n",
    "def translate(img,x,y):\n",
    "    transMat = np.float32([[1,0,x],[0,1,y]])\n",
    "    dim = (img.shape[1], img.shape[0])\n",
    "    #-x --> Left\n",
    "    #+x --> Right\n",
    "    #-y --> Up\n",
    "    #+y --> Down\n",
    "    return cv.warpAffine(img, transMat, dim)\n",
    "\n",
    "def rotate(img,angle,rotPoint=None):\n",
    "    (height, width) = img.shape[:2]\n",
    "    if rotPoint is None:\n",
    "        rotPoint = (width//2, height//2)\n",
    "    \n",
    "    rotMat = cv.getRotationMatrix2D(rotPoint, angle , 1.0)\n",
    "    dim = (width, height)\n",
    "    return cv.warpAffine(img, rotMat, dim)"
   ]
  },
  {
   "cell_type": "markdown",
   "id": "ae22e54c",
   "metadata": {},
   "source": [
    "<b>Live Video Capture</b>"
   ]
  },
  {
   "cell_type": "code",
   "execution_count": 4,
   "id": "1a407e8e",
   "metadata": {},
   "outputs": [],
   "source": [
    "cap = cv.VideoCapture(-1)\n",
    "changeRes(800,600)\n",
    "while True:\n",
    "    isTrue,frame = cap.read()\n",
    "    cv.imshow('Frame',frame)\n",
    "    \n",
    "    if cv.waitKey(1) & 0xFF == 27:\n",
    "        break\n",
    "\n",
    "cap.release()\n",
    "cv.destroyAllWindows()"
   ]
  },
  {
   "cell_type": "markdown",
   "id": "5be75dd5",
   "metadata": {},
   "source": [
    "<b>Grayscale Live Video Capture</b>"
   ]
  },
  {
   "cell_type": "code",
   "execution_count": 19,
   "id": "a2a5725c",
   "metadata": {},
   "outputs": [
    {
     "name": "stderr",
     "output_type": "stream",
     "text": [
      "[ WARN:0] global ./modules/videoio/src/cap_gstreamer.cpp (1100) open OpenCV | GStreamer warning: Cannot query video position: status=0, value=-1, duration=-1\n"
     ]
    }
   ],
   "source": [
    "cap = cv.VideoCapture(0)\n",
    "changeRes(800,600)\n",
    "while True:\n",
    "    isTrue, frame = cap.read()\n",
    "    \n",
    "    gray = cv.cvtColor(frame,cv.COLOR_BGR2GRAY)\n",
    "    \n",
    "    cv.imshow('Frame',gray)\n",
    "    \n",
    "    if cv.waitKey(1) & 0xFF == 27:\n",
    "        break\n",
    "    \n",
    "cap.release()\n",
    "cv.destroyAllWindows()"
   ]
  },
  {
   "cell_type": "markdown",
   "id": "17ea7960",
   "metadata": {},
   "source": [
    "<b>Rescaling the video</b>"
   ]
  },
  {
   "cell_type": "code",
   "execution_count": 62,
   "id": "85f839a7",
   "metadata": {},
   "outputs": [
    {
     "name": "stderr",
     "output_type": "stream",
     "text": [
      "[ WARN:0] global ./modules/videoio/src/cap_gstreamer.cpp (1100) open OpenCV | GStreamer warning: Cannot query video position: status=0, value=-1, duration=-1\n"
     ]
    }
   ],
   "source": [
    "cap = cv.VideoCapture(0)\n",
    "while True:\n",
    "    isTrue, frame = cap.read()\n",
    "    \n",
    "    re_frame = rescaledFrame(frame,0.5)\n",
    "    \n",
    "    cv.imshow('Frame',re_frame)\n",
    "    \n",
    "    if cv.waitKey(1) & 0xFF == 27:\n",
    "        break\n",
    "    \n",
    "cap.release()\n",
    "cv.destroyAllWindows()"
   ]
  },
  {
   "cell_type": "markdown",
   "id": "eaa46216",
   "metadata": {},
   "source": [
    "<b>Changing the resolution of the video</b>"
   ]
  },
  {
   "cell_type": "code",
   "execution_count": 63,
   "id": "addbd202",
   "metadata": {},
   "outputs": [
    {
     "name": "stderr",
     "output_type": "stream",
     "text": [
      "[ WARN:0] global ./modules/videoio/src/cap_gstreamer.cpp (1100) open OpenCV | GStreamer warning: Cannot query video position: status=0, value=-1, duration=-1\n"
     ]
    }
   ],
   "source": [
    "cap = cv.VideoCapture(0)\n",
    "changeRes(1280,720)\n",
    "while True:\n",
    "    isTrue, frame = cap.read()\n",
    "    cv.imshow('Frame',frame)\n",
    "    if cv.waitKey(1) & 0xFF == 27:\n",
    "        break\n",
    "    \n",
    "cap.release()\n",
    "cv.destroyAllWindows()"
   ]
  },
  {
   "cell_type": "markdown",
   "id": "f0139678",
   "metadata": {},
   "source": [
    "<b>Creating a blank image and drawing shapes and text</b>"
   ]
  },
  {
   "cell_type": "code",
   "execution_count": 10,
   "id": "b398c4ee",
   "metadata": {},
   "outputs": [],
   "source": [
    "blank = np.zeros((500,500,3),np.uint8)\n",
    "blank[:] = 192,192,192 #Creating a kernel\n",
    "\n",
    "cv.rectangle(blank,(0,0),(blank.shape[1]//2,blank.shape[0]//3),(0,255,0),thickness=2) #Drawing a rectangle\n",
    "cv.circle(blank,(250,250),50,(0,0,255),thickness=2) #Drawing a circle\n",
    "cv.putText(blank,\"Gay\",(250,250),cv.FONT_HERSHEY_SIMPLEX, 1.0, (255,255,255), 2,) #Adding Text\n",
    "cv.imshow('blank',blank)\n",
    "cv.waitKey(0)\n",
    "cv.destroyAllWindows()"
   ]
  },
  {
   "cell_type": "markdown",
   "id": "a2376434",
   "metadata": {},
   "source": [
    "<b>Drawing shapes using mouse</b>"
   ]
  },
  {
   "cell_type": "code",
   "execution_count": null,
   "id": "aa7c7078",
   "metadata": {},
   "outputs": [],
   "source": [
    "img = np.zeros((500,500,3),np.uint8)\n",
    "img[:] = 192,192,192\n",
    "cv.namedWindow('image')\n",
    "cv.setMouseCallback('image',draw_circle)\n",
    "while True:\n",
    "    cv.imshow('image',img)\n",
    "    if cv.waitKey(1) & 0xFF == 27:\n",
    "        break\n",
    "cv.destroyAllWindows()"
   ]
  },
  {
   "cell_type": "markdown",
   "id": "dd5d15e4",
   "metadata": {},
   "source": [
    "<b>Rescaling a image/frame</b>"
   ]
  },
  {
   "cell_type": "code",
   "execution_count": 22,
   "id": "a137f066",
   "metadata": {},
   "outputs": [
    {
     "data": {
      "text/plain": [
       "-1"
      ]
     },
     "execution_count": 22,
     "metadata": {},
     "output_type": "execute_result"
    }
   ],
   "source": [
    "img = cv.imread(\"/home/shanmukh/Pictures/12-Dark.jpg\")\n",
    "img_resize = rescaledFrame(img,0.15)\n",
    "cv.imshow(\"Wallpaper\", img_resize)\n",
    "cv.waitKey(0)"
   ]
  },
  {
   "cell_type": "markdown",
   "id": "401e77a8",
   "metadata": {},
   "source": [
    "<b>Color Palette using Trackbars</b>"
   ]
  },
  {
   "cell_type": "code",
   "execution_count": null,
   "id": "b8c9f029",
   "metadata": {},
   "outputs": [],
   "source": [
    "img = np.zeros((500,500,3),np.uint8)\n",
    "cv.namedWindow('Image')\n",
    "cv.createTrackbar('R','Image',0,255,doNothing)\n",
    "cv.createTrackbar('G','Image',0,255,doNothing)\n",
    "cv.createTrackbar('B','Image',0,255,doNothing)\n",
    "\n",
    "switch = '0: OFF \\n1: ON'\n",
    "cv.createTrackbar(switch,'Image',0,1,doNothing)\n",
    "while True:\n",
    "    cv.imshow('Image',img)\n",
    "    if cv.waitKey(1) & 0xFF == 27:\n",
    "        break\n",
    "    r = cv.getTrackbarPos('R','Image')\n",
    "    g = cv.getTrackbarPos('G','Image')\n",
    "    b = cv.getTrackbarPos('B','Image')\n",
    "    s = cv.getTrackbarPos(switch,'Image')\n",
    "    \n",
    "    if s == 0:\n",
    "        img[:] = 0\n",
    "    else:\n",
    "        img[:] = b,g,r\n",
    "    \n",
    "cv.destroyAllWindows()"
   ]
  },
  {
   "cell_type": "markdown",
   "id": "044dcfa5",
   "metadata": {},
   "source": [
    "**Gray**"
   ]
  },
  {
   "cell_type": "code",
   "execution_count": 56,
   "id": "fa93c05a",
   "metadata": {},
   "outputs": [
    {
     "data": {
      "text/plain": [
       "-1"
      ]
     },
     "execution_count": 56,
     "metadata": {},
     "output_type": "execute_result"
    }
   ],
   "source": [
    "img = cv.imread('/home/shanmukh/Pictures/12-Dark.jpg')\n",
    "re_img = rescaledFrame(img,0.15)\n",
    "gray = cv.cvtColor(re_img,cv.COLOR_BGR2GRAY)\n",
    "cv.imshow('Image',gray)\n",
    "cv.waitKey(0)"
   ]
  },
  {
   "cell_type": "markdown",
   "id": "153e10fa",
   "metadata": {},
   "source": [
    "**Blur**"
   ]
  },
  {
   "cell_type": "code",
   "execution_count": null,
   "id": "35bd0b56",
   "metadata": {},
   "outputs": [],
   "source": [
    "img = cv.imread('/home/shanmukh/Pictures/12-Dark.jpg')\n",
    "re_img = rescaledFrame(img,0.15)\n",
    "blur = cv.GaussianBlur(re_img,(9,9),cv.BORDER_DEFAULT)\n",
    "cv.imshow('Image',blur)\n",
    "cv.waitKey(0)"
   ]
  },
  {
   "cell_type": "markdown",
   "id": "40c43f4a",
   "metadata": {},
   "source": [
    "<b>Canny/Edge Outlines</b>"
   ]
  },
  {
   "cell_type": "code",
   "execution_count": 3,
   "id": "39192235",
   "metadata": {},
   "outputs": [],
   "source": [
    "img = cv.imread('/home/shanmukh/Pictures/cybertruck.png')\n",
    "re_img = rescaledFrame(img,0.15)\n",
    "canny = cv.Canny(re_img,25,25)\n",
    "cv.imshow('Canny',canny)\n",
    "cv.waitKey(0)\n",
    "cv.destroyAllWindows()"
   ]
  },
  {
   "cell_type": "code",
   "execution_count": 4,
   "id": "40599c67",
   "metadata": {},
   "outputs": [],
   "source": [
    "cap = cv.VideoCapture(-1)\n",
    "changeRes(800, 600)\n",
    "while True:\n",
    "    isTrue, frame = cap.read()\n",
    "    canny = cv.Canny(frame,200,200)\n",
    "    cv.imshow('Canny', canny)\n",
    "    \n",
    "    if cv.waitKey(1) & 0xFF == 27:\n",
    "        break\n",
    "cap.release()\n",
    "cv.destroyAllWindows()"
   ]
  },
  {
   "cell_type": "markdown",
   "id": "7a8b8313",
   "metadata": {},
   "source": [
    "**Splitting Color Channels**"
   ]
  },
  {
   "cell_type": "code",
   "execution_count": 4,
   "id": "f1e015b8",
   "metadata": {
    "scrolled": true
   },
   "outputs": [],
   "source": [
    "img = cv.imread('/home/shanmukh/Pictures/intersection.webp')\n",
    "re_img = rescaledFrame(img,1)\n",
    "blue = np.zeros((re_img.shape[0],re_img.shape[1],3),np.uint8)\n",
    "green = np.zeros((re_img.shape[0],re_img.shape[1],3),np.uint8)\n",
    "red = np.zeros((re_img.shape[0],re_img.shape[1],3),np.uint8)\n",
    "\n",
    "B, G, R = cv.split(re_img)\n",
    "blue[:,:,0] = B\n",
    "green[:,:,1] = G\n",
    "red[:,:,2] = R\n",
    "cv.imshow('Original', re_img)\n",
    "cv.imshow('Red Channel', red)\n",
    "cv.imshow('Blue Channel', blue)\n",
    "cv.imshow('Green Channel', green)\n",
    "\n",
    "cv.waitKey(0)\n",
    "cv.destroyAllWindows()"
   ]
  },
  {
   "cell_type": "markdown",
   "id": "a59ece4f",
   "metadata": {},
   "source": [
    "**Translating an image**"
   ]
  },
  {
   "cell_type": "code",
   "execution_count": 13,
   "id": "3f7f4b79",
   "metadata": {},
   "outputs": [],
   "source": [
    "img = cv.imread('/home/shanmukh/Pictures/cybertruck.png')\n",
    "re_img = rescaledFrame(img,0.4)\n",
    "rot_img = rotate(re_img, -90)\n",
    "cv.imshow('CyberTruck', rot_img)\n",
    "cv.waitKey(0)\n",
    "cv.destroyAllWindows()"
   ]
  },
  {
   "cell_type": "markdown",
   "id": "ed6abbad",
   "metadata": {},
   "source": [
    "**Splitting Color Channels in live capture**"
   ]
  },
  {
   "cell_type": "code",
   "execution_count": 18,
   "id": "0833ba72",
   "metadata": {},
   "outputs": [],
   "source": [
    "cap = cv.VideoCapture(-1)\n",
    "changeRes(800,600)\n",
    "\n",
    "while True:\n",
    "    isTrue,frame = cap.read()\n",
    "    blue = np.zeros((frame.shape[0], frame.shape[1], 3), np.uint8)\n",
    "    red = np.zeros((frame.shape[0], frame.shape[1], 3), np.uint8)\n",
    "    green = np.zeros((frame.shape[0], frame.shape[1], 3), np.uint8)\n",
    "    \n",
    "    blue_channel = frame[:,:,0]\n",
    "    green_channel = frame[:,:,1]\n",
    "    red_channel = frame[:,:,2]\n",
    "    \n",
    "    blue[:,:,0] = blue_channel\n",
    "    green[:,:,1] = green_channel\n",
    "    red[:,:,2] = red_channel\n",
    "    \n",
    "    cv.imshow('Original', frame)\n",
    "    cv.imshow('Red Channel', red)\n",
    "    cv.imshow('Blue Channel', blue)\n",
    "    cv.imshow('Green Channel', green)\n",
    "    \n",
    "    if cv.waitKey(1) & 0xFF == 27:\n",
    "        break\n",
    "\n",
    "cap.release()\n",
    "cv.destroyAllWindows()"
   ]
  }
 ],
 "metadata": {
  "kernelspec": {
   "display_name": "Python 3 (ipykernel)",
   "language": "python",
   "name": "python3"
  },
  "language_info": {
   "codemirror_mode": {
    "name": "ipython",
    "version": 3
   },
   "file_extension": ".py",
   "mimetype": "text/x-python",
   "name": "python",
   "nbconvert_exporter": "python",
   "pygments_lexer": "ipython3",
   "version": "3.10.10"
  }
 },
 "nbformat": 4,
 "nbformat_minor": 5
}
